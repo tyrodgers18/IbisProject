{
 "cells": [
  {
   "cell_type": "code",
   "execution_count": 1,
   "id": "aa17ece1-e143-4e35-95ac-c777b533460c",
   "metadata": {},
   "outputs": [],
   "source": [
    "# Ibis and Pandas\n",
    "import ibis \n",
    "import pandas as pd\n",
    "import duckdb\n",
    "import time\n",
    "import timeit\n",
    "\n",
    "ibis.options.interactive = True # Automatically exucutes queries at the end of each cell "
   ]
  },
  {
   "cell_type": "code",
   "execution_count": 2,
   "id": "6754c899-a2eb-411e-aa11-962753085193",
   "metadata": {},
   "outputs": [
    {
     "data": {
      "text/plain": [
       "{'id': [1, 2, 3, 4],\n",
       " 'value': [100, 200, 300, 400],\n",
       " 'category': ['A', 'B', 'A', 'B']}"
      ]
     },
     "execution_count": 2,
     "metadata": {},
     "output_type": "execute_result"
    }
   ],
   "source": [
    "# Sample dataset\n",
    "data = {\n",
    "    'id': [1, 2, 3, 4],\n",
    "    'value': [100, 200, 300, 400],\n",
    "    'category': ['A', 'B', 'A', 'B']\n",
    "}\n",
    "data"
   ]
  },
  {
   "cell_type": "code",
   "execution_count": 3,
   "id": "4321da04-b1fc-4d0a-b733-83e41d138572",
   "metadata": {},
   "outputs": [
    {
     "data": {
      "text/html": [
       "<div>\n",
       "<style scoped>\n",
       "    .dataframe tbody tr th:only-of-type {\n",
       "        vertical-align: middle;\n",
       "    }\n",
       "\n",
       "    .dataframe tbody tr th {\n",
       "        vertical-align: top;\n",
       "    }\n",
       "\n",
       "    .dataframe thead th {\n",
       "        text-align: right;\n",
       "    }\n",
       "</style>\n",
       "<table border=\"1\" class=\"dataframe\">\n",
       "  <thead>\n",
       "    <tr style=\"text-align: right;\">\n",
       "      <th></th>\n",
       "      <th>id</th>\n",
       "      <th>value</th>\n",
       "      <th>category</th>\n",
       "    </tr>\n",
       "  </thead>\n",
       "  <tbody>\n",
       "    <tr>\n",
       "      <th>0</th>\n",
       "      <td>1</td>\n",
       "      <td>100</td>\n",
       "      <td>A</td>\n",
       "    </tr>\n",
       "    <tr>\n",
       "      <th>1</th>\n",
       "      <td>2</td>\n",
       "      <td>200</td>\n",
       "      <td>B</td>\n",
       "    </tr>\n",
       "    <tr>\n",
       "      <th>2</th>\n",
       "      <td>3</td>\n",
       "      <td>300</td>\n",
       "      <td>A</td>\n",
       "    </tr>\n",
       "    <tr>\n",
       "      <th>3</th>\n",
       "      <td>4</td>\n",
       "      <td>400</td>\n",
       "      <td>B</td>\n",
       "    </tr>\n",
       "  </tbody>\n",
       "</table>\n",
       "</div>"
      ],
      "text/plain": [
       "   id  value category\n",
       "0   1    100        A\n",
       "1   2    200        B\n",
       "2   3    300        A\n",
       "3   4    400        B"
      ]
     },
     "execution_count": 3,
     "metadata": {},
     "output_type": "execute_result"
    }
   ],
   "source": [
    "# Pandas DataFrame\n",
    "pandas_df = pd.DataFrame(data)\n",
    "pandas_df"
   ]
  },
  {
   "cell_type": "code",
   "execution_count": 4,
   "id": "1999780f-674a-4808-9075-1ee9ead36dd2",
   "metadata": {},
   "outputs": [
    {
     "data": {
      "text/plain": [
       "pandas.core.frame.DataFrame"
      ]
     },
     "execution_count": 4,
     "metadata": {},
     "output_type": "execute_result"
    }
   ],
   "source": [
    "type(pandas_df)"
   ]
  },
  {
   "cell_type": "code",
   "execution_count": 5,
   "id": "2a1eb540-f6ea-4361-8118-a4908bd3c9be",
   "metadata": {},
   "outputs": [
    {
     "data": {
      "text/html": [
       "<pre style=\"white-space:pre;overflow-x:auto;line-height:normal;font-family:Menlo,'DejaVu Sans Mono',consolas,'Courier New',monospace\">┏━━━━━━━┳━━━━━━━┳━━━━━━━━━━┓\n",
       "┃<span style=\"font-weight: bold\"> id    </span>┃<span style=\"font-weight: bold\"> value </span>┃<span style=\"font-weight: bold\"> category </span>┃\n",
       "┡━━━━━━━╇━━━━━━━╇━━━━━━━━━━┩\n",
       "│ <span style=\"color: #7f7f7f; text-decoration-color: #7f7f7f\">int64</span> │ <span style=\"color: #7f7f7f; text-decoration-color: #7f7f7f\">int64</span> │ <span style=\"color: #7f7f7f; text-decoration-color: #7f7f7f\">string</span>   │\n",
       "├───────┼───────┼──────────┤\n",
       "│     <span style=\"color: #008080; text-decoration-color: #008080; font-weight: bold\">1</span> │   <span style=\"color: #008080; text-decoration-color: #008080; font-weight: bold\">100</span> │ <span style=\"color: #008000; text-decoration-color: #008000\">A       </span> │\n",
       "│     <span style=\"color: #008080; text-decoration-color: #008080; font-weight: bold\">2</span> │   <span style=\"color: #008080; text-decoration-color: #008080; font-weight: bold\">200</span> │ <span style=\"color: #008000; text-decoration-color: #008000\">B       </span> │\n",
       "│     <span style=\"color: #008080; text-decoration-color: #008080; font-weight: bold\">3</span> │   <span style=\"color: #008080; text-decoration-color: #008080; font-weight: bold\">300</span> │ <span style=\"color: #008000; text-decoration-color: #008000\">A       </span> │\n",
       "│     <span style=\"color: #008080; text-decoration-color: #008080; font-weight: bold\">4</span> │   <span style=\"color: #008080; text-decoration-color: #008080; font-weight: bold\">400</span> │ <span style=\"color: #008000; text-decoration-color: #008000\">B       </span> │\n",
       "└───────┴───────┴──────────┘\n",
       "</pre>\n"
      ],
      "text/plain": [
       "┏━━━━━━━┳━━━━━━━┳━━━━━━━━━━┓\n",
       "┃\u001b[1m \u001b[0m\u001b[1mid\u001b[0m\u001b[1m   \u001b[0m\u001b[1m \u001b[0m┃\u001b[1m \u001b[0m\u001b[1mvalue\u001b[0m\u001b[1m \u001b[0m┃\u001b[1m \u001b[0m\u001b[1mcategory\u001b[0m\u001b[1m \u001b[0m┃\n",
       "┡━━━━━━━╇━━━━━━━╇━━━━━━━━━━┩\n",
       "│ \u001b[2mint64\u001b[0m │ \u001b[2mint64\u001b[0m │ \u001b[2mstring\u001b[0m   │\n",
       "├───────┼───────┼──────────┤\n",
       "│     \u001b[1;36m1\u001b[0m │   \u001b[1;36m100\u001b[0m │ \u001b[32mA       \u001b[0m │\n",
       "│     \u001b[1;36m2\u001b[0m │   \u001b[1;36m200\u001b[0m │ \u001b[32mB       \u001b[0m │\n",
       "│     \u001b[1;36m3\u001b[0m │   \u001b[1;36m300\u001b[0m │ \u001b[32mA       \u001b[0m │\n",
       "│     \u001b[1;36m4\u001b[0m │   \u001b[1;36m400\u001b[0m │ \u001b[32mB       \u001b[0m │\n",
       "└───────┴───────┴──────────┘"
      ]
     },
     "execution_count": 5,
     "metadata": {},
     "output_type": "execute_result"
    }
   ],
   "source": [
    "# Ibis\n",
    "# Connect Ibis to DuckDB\n",
    "connection = ibis.duckdb.connect(database=\":memory:\") # memory enables you to work with a temporary, fast, in-memory database\n",
    "\n",
    "# Register the Pandas DataFrame as a table\n",
    "connection.register(pandas_df, table_name=\"example_table\")\n",
    "\n",
    "# Create an Ibis table expression\n",
    "ibis_table = connection.table(\"example_table\")\n",
    "ibis_table\n",
    "\n",
    "# Notice Ibis has no notion of an index: If you want to use the index, you will need to turn it into a column."
   ]
  },
  {
   "cell_type": "code",
   "execution_count": 6,
   "id": "2e544d1b-c090-4d3f-b4eb-13e2288760ba",
   "metadata": {},
   "outputs": [
    {
     "data": {
      "text/plain": [
       "ibis.expr.types.relations.Table"
      ]
     },
     "execution_count": 6,
     "metadata": {},
     "output_type": "execute_result"
    }
   ],
   "source": [
    "type(ibis_table)"
   ]
  },
  {
   "cell_type": "code",
   "execution_count": 7,
   "id": "6c99ee8b-0786-417b-bcf2-d26d678a8c13",
   "metadata": {},
   "outputs": [
    {
     "data": {
      "text/plain": [
       "(id           int64\n",
       " value        int64\n",
       " category    object\n",
       " dtype: object,\n",
       " ibis.Schema {\n",
       "   id        int64\n",
       "   value     int64\n",
       "   category  string\n",
       " })"
      ]
     },
     "execution_count": 7,
     "metadata": {},
     "output_type": "execute_result"
    }
   ],
   "source": [
    "# The data types of columns in Pandas is accessed using dtypes and returns a Series Object\n",
    "# In Ibis the schema method returns an ibis.Schema object\n",
    "(pandas_df.dtypes, ibis_table.schema())"
   ]
  },
  {
   "cell_type": "code",
   "execution_count": 8,
   "id": "0fb4b5fa-b75d-4d1d-9ffb-50def9df143e",
   "metadata": {},
   "outputs": [
    {
     "data": {
      "text/html": [
       "<pre style=\"white-space:pre;overflow-x:auto;line-height:normal;font-family:Menlo,'DejaVu Sans Mono',consolas,'Courier New',monospace\"></pre>\n"
      ],
      "text/plain": []
     },
     "metadata": {},
     "output_type": "display_data"
    },
    {
     "data": {
      "text/plain": [
       "(   id  value\n",
       " 0   1    100\n",
       " 1   2    200\n",
       " 2   3    300\n",
       " 3   4    400,\n",
       " ┏━━━━━━━┳━━━━━━━┓\n",
       " ┃\u001b[1m \u001b[0m\u001b[1mid\u001b[0m\u001b[1m   \u001b[0m\u001b[1m \u001b[0m┃\u001b[1m \u001b[0m\u001b[1mvalue\u001b[0m\u001b[1m \u001b[0m┃\n",
       " ┡━━━━━━━╇━━━━━━━┩\n",
       " │ \u001b[2mint64\u001b[0m │ \u001b[2mint64\u001b[0m │\n",
       " ├───────┼───────┤\n",
       " │     \u001b[1;36m1\u001b[0m │   \u001b[1;36m100\u001b[0m │\n",
       " │     \u001b[1;36m2\u001b[0m │   \u001b[1;36m200\u001b[0m │\n",
       " │     \u001b[1;36m3\u001b[0m │   \u001b[1;36m300\u001b[0m │\n",
       " │     \u001b[1;36m4\u001b[0m │   \u001b[1;36m400\u001b[0m │\n",
       " └───────┴───────┘)"
      ]
     },
     "execution_count": 8,
     "metadata": {},
     "output_type": "execute_result"
    }
   ],
   "source": [
    "# For selecting columns you can use the same syntax in Pandas and Ibis\n",
    "(pandas_df[[\"id\", \"value\"]],   ibis_table[[\"id\", \"value\"]])"
   ]
  },
  {
   "cell_type": "code",
   "execution_count": 9,
   "id": "d48b92b5-ca4f-4636-905f-f3c7b64e6652",
   "metadata": {},
   "outputs": [
    {
     "name": "stdout",
     "output_type": "stream",
     "text": [
      "category\n",
      "A    400\n",
      "B    600\n",
      "Name: value, dtype: int64\n"
     ]
    }
   ],
   "source": [
    "# Groub-by and aggregation in Pandas\n",
    "print(pandas_df.groupby('category')['value'].sum())"
   ]
  },
  {
   "cell_type": "code",
   "execution_count": 10,
   "id": "ce284317-52b1-4fcd-aea7-822ddbd4b447",
   "metadata": {},
   "outputs": [
    {
     "data": {
      "text/html": [
       "<pre style=\"white-space:pre;overflow-x:auto;line-height:normal;font-family:Menlo,'DejaVu Sans Mono',consolas,'Courier New',monospace\">┏━━━━━━━━━━┳━━━━━━━━━━━┓\n",
       "┃<span style=\"font-weight: bold\"> category </span>┃<span style=\"font-weight: bold\"> sum_value </span>┃\n",
       "┡━━━━━━━━━━╇━━━━━━━━━━━┩\n",
       "│ <span style=\"color: #7f7f7f; text-decoration-color: #7f7f7f\">string</span>   │ <span style=\"color: #7f7f7f; text-decoration-color: #7f7f7f\">int64</span>     │\n",
       "├──────────┼───────────┤\n",
       "│ <span style=\"color: #008000; text-decoration-color: #008000\">A       </span> │       <span style=\"color: #008080; text-decoration-color: #008080; font-weight: bold\">400</span> │\n",
       "│ <span style=\"color: #008000; text-decoration-color: #008000\">B       </span> │       <span style=\"color: #008080; text-decoration-color: #008080; font-weight: bold\">600</span> │\n",
       "└──────────┴───────────┘\n",
       "</pre>\n"
      ],
      "text/plain": [
       "┏━━━━━━━━━━┳━━━━━━━━━━━┓\n",
       "┃\u001b[1m \u001b[0m\u001b[1mcategory\u001b[0m\u001b[1m \u001b[0m┃\u001b[1m \u001b[0m\u001b[1msum_value\u001b[0m\u001b[1m \u001b[0m┃\n",
       "┡━━━━━━━━━━╇━━━━━━━━━━━┩\n",
       "│ \u001b[2mstring\u001b[0m   │ \u001b[2mint64\u001b[0m     │\n",
       "├──────────┼───────────┤\n",
       "│ \u001b[32mA       \u001b[0m │       \u001b[1;36m400\u001b[0m │\n",
       "│ \u001b[32mB       \u001b[0m │       \u001b[1;36m600\u001b[0m │\n",
       "└──────────┴───────────┘"
      ]
     },
     "execution_count": 10,
     "metadata": {},
     "output_type": "execute_result"
    }
   ],
   "source": [
    "# Perform the same Group-by and aggregation in Ibis\n",
    "ibis_query = ibis_table.group_by('category').aggregate(sum_value=ibis_table['value'].sum())\n",
    "# ibis_result = ibis_query.execute()\n",
    "ibis_query"
   ]
  },
  {
   "cell_type": "code",
   "execution_count": 11,
   "id": "69872be8-68f7-4111-8970-8b66b0c3559b",
   "metadata": {},
   "outputs": [
    {
     "data": {
      "text/html": [
       "<div>\n",
       "<style scoped>\n",
       "    .dataframe tbody tr th:only-of-type {\n",
       "        vertical-align: middle;\n",
       "    }\n",
       "\n",
       "    .dataframe tbody tr th {\n",
       "        vertical-align: top;\n",
       "    }\n",
       "\n",
       "    .dataframe thead th {\n",
       "        text-align: right;\n",
       "    }\n",
       "</style>\n",
       "<table border=\"1\" class=\"dataframe\">\n",
       "  <thead>\n",
       "    <tr style=\"text-align: right;\">\n",
       "      <th></th>\n",
       "      <th>instant</th>\n",
       "      <th>dteday</th>\n",
       "      <th>season</th>\n",
       "      <th>yr</th>\n",
       "      <th>mnth</th>\n",
       "      <th>holiday</th>\n",
       "      <th>weekday</th>\n",
       "      <th>workingday</th>\n",
       "      <th>weathersit</th>\n",
       "      <th>temp</th>\n",
       "      <th>atemp</th>\n",
       "      <th>hum</th>\n",
       "      <th>windspeed</th>\n",
       "      <th>casual</th>\n",
       "      <th>registered</th>\n",
       "      <th>cnt</th>\n",
       "    </tr>\n",
       "  </thead>\n",
       "  <tbody>\n",
       "    <tr>\n",
       "      <th>0</th>\n",
       "      <td>1</td>\n",
       "      <td>2011-01-01</td>\n",
       "      <td>1</td>\n",
       "      <td>0</td>\n",
       "      <td>1</td>\n",
       "      <td>0</td>\n",
       "      <td>6</td>\n",
       "      <td>0</td>\n",
       "      <td>2</td>\n",
       "      <td>0.344167</td>\n",
       "      <td>0.363625</td>\n",
       "      <td>0.805833</td>\n",
       "      <td>0.160446</td>\n",
       "      <td>331</td>\n",
       "      <td>654</td>\n",
       "      <td>985</td>\n",
       "    </tr>\n",
       "    <tr>\n",
       "      <th>1</th>\n",
       "      <td>2</td>\n",
       "      <td>2011-01-02</td>\n",
       "      <td>1</td>\n",
       "      <td>0</td>\n",
       "      <td>1</td>\n",
       "      <td>0</td>\n",
       "      <td>0</td>\n",
       "      <td>0</td>\n",
       "      <td>2</td>\n",
       "      <td>0.363478</td>\n",
       "      <td>0.353739</td>\n",
       "      <td>0.696087</td>\n",
       "      <td>0.248539</td>\n",
       "      <td>131</td>\n",
       "      <td>670</td>\n",
       "      <td>801</td>\n",
       "    </tr>\n",
       "    <tr>\n",
       "      <th>2</th>\n",
       "      <td>3</td>\n",
       "      <td>2011-01-03</td>\n",
       "      <td>1</td>\n",
       "      <td>0</td>\n",
       "      <td>1</td>\n",
       "      <td>0</td>\n",
       "      <td>1</td>\n",
       "      <td>1</td>\n",
       "      <td>1</td>\n",
       "      <td>0.196364</td>\n",
       "      <td>0.189405</td>\n",
       "      <td>0.437273</td>\n",
       "      <td>0.248309</td>\n",
       "      <td>120</td>\n",
       "      <td>1229</td>\n",
       "      <td>1349</td>\n",
       "    </tr>\n",
       "    <tr>\n",
       "      <th>3</th>\n",
       "      <td>4</td>\n",
       "      <td>2011-01-04</td>\n",
       "      <td>1</td>\n",
       "      <td>0</td>\n",
       "      <td>1</td>\n",
       "      <td>0</td>\n",
       "      <td>2</td>\n",
       "      <td>1</td>\n",
       "      <td>1</td>\n",
       "      <td>0.200000</td>\n",
       "      <td>0.212122</td>\n",
       "      <td>0.590435</td>\n",
       "      <td>0.160296</td>\n",
       "      <td>108</td>\n",
       "      <td>1454</td>\n",
       "      <td>1562</td>\n",
       "    </tr>\n",
       "    <tr>\n",
       "      <th>4</th>\n",
       "      <td>5</td>\n",
       "      <td>2011-01-05</td>\n",
       "      <td>1</td>\n",
       "      <td>0</td>\n",
       "      <td>1</td>\n",
       "      <td>0</td>\n",
       "      <td>3</td>\n",
       "      <td>1</td>\n",
       "      <td>1</td>\n",
       "      <td>0.226957</td>\n",
       "      <td>0.229270</td>\n",
       "      <td>0.436957</td>\n",
       "      <td>0.186900</td>\n",
       "      <td>82</td>\n",
       "      <td>1518</td>\n",
       "      <td>1600</td>\n",
       "    </tr>\n",
       "  </tbody>\n",
       "</table>\n",
       "</div>"
      ],
      "text/plain": [
       "   instant      dteday  season  yr  mnth  holiday  weekday  workingday  \\\n",
       "0        1  2011-01-01       1   0     1        0        6           0   \n",
       "1        2  2011-01-02       1   0     1        0        0           0   \n",
       "2        3  2011-01-03       1   0     1        0        1           1   \n",
       "3        4  2011-01-04       1   0     1        0        2           1   \n",
       "4        5  2011-01-05       1   0     1        0        3           1   \n",
       "\n",
       "   weathersit      temp     atemp       hum  windspeed  casual  registered  \\\n",
       "0           2  0.344167  0.363625  0.805833   0.160446     331         654   \n",
       "1           2  0.363478  0.353739  0.696087   0.248539     131         670   \n",
       "2           1  0.196364  0.189405  0.437273   0.248309     120        1229   \n",
       "3           1  0.200000  0.212122  0.590435   0.160296     108        1454   \n",
       "4           1  0.226957  0.229270  0.436957   0.186900      82        1518   \n",
       "\n",
       "    cnt  \n",
       "0   985  \n",
       "1   801  \n",
       "2  1349  \n",
       "3  1562  \n",
       "4  1600  "
      ]
     },
     "execution_count": 11,
     "metadata": {},
     "output_type": "execute_result"
    }
   ],
   "source": [
    "url = \"https://raw.githubusercontent.com/roualdes/data/refs/heads/master/bike.csv\"\n",
    "bike_data = pd.read_csv(url)\n",
    "bike_data.head(5)"
   ]
  },
  {
   "cell_type": "code",
   "execution_count": 12,
   "id": "e2465697-94fc-4838-93ca-75a1ac3ab5e5",
   "metadata": {},
   "outputs": [
    {
     "data": {
      "text/plain": [
       "(731, 16)"
      ]
     },
     "execution_count": 12,
     "metadata": {},
     "output_type": "execute_result"
    }
   ],
   "source": [
    "bike_data.shape"
   ]
  },
  {
   "cell_type": "code",
   "execution_count": 13,
   "id": "2c20a6d2-e3d6-40a0-bf29-ed737dc40c20",
   "metadata": {},
   "outputs": [
    {
     "data": {
      "text/plain": [
       "(7310000, 16)"
      ]
     },
     "execution_count": 13,
     "metadata": {},
     "output_type": "execute_result"
    }
   ],
   "source": [
    "# Repeat original dataset 10,000 times resulting in 7.31 million rows\n",
    "large_bike_data = pd.concat([bike_data] * 10000, ignore_index=True)\n",
    "large_bike_data.shape"
   ]
  },
  {
   "cell_type": "code",
   "execution_count": 1,
   "id": "d715ef50-3732-4cb5-80ec-4281d6a3f459",
   "metadata": {},
   "outputs": [
    {
     "ename": "NameError",
     "evalue": "name 'time' is not defined",
     "output_type": "error",
     "traceback": [
      "\u001b[0;31m---------------------------------------------------------------------------\u001b[0m",
      "\u001b[0;31mNameError\u001b[0m                                 Traceback (most recent call last)",
      "Cell \u001b[0;32mIn[1], line 2\u001b[0m\n\u001b[1;32m      1\u001b[0m \u001b[38;5;66;03m# Pandas section\u001b[39;00m\n\u001b[0;32m----> 2\u001b[0m start_time \u001b[38;5;241m=\u001b[39m \u001b[43mtime\u001b[49m\u001b[38;5;241m.\u001b[39mtime()\n\u001b[1;32m      4\u001b[0m pandas_result \u001b[38;5;241m=\u001b[39m large_bike_data\u001b[38;5;241m.\u001b[39mgroupby(\u001b[38;5;124m'\u001b[39m\u001b[38;5;124mseason\u001b[39m\u001b[38;5;124m'\u001b[39m)[\u001b[38;5;124m'\u001b[39m\u001b[38;5;124mcnt\u001b[39m\u001b[38;5;124m'\u001b[39m]\u001b[38;5;241m.\u001b[39msum()\n\u001b[1;32m      6\u001b[0m pandas_time \u001b[38;5;241m=\u001b[39m time\u001b[38;5;241m.\u001b[39mtime() \u001b[38;5;241m-\u001b[39m start_time\n",
      "\u001b[0;31mNameError\u001b[0m: name 'time' is not defined"
     ]
    }
   ],
   "source": [
    "# Pandas section\n",
    "start_time = time.time()\n",
    "\n",
    "pandas_result = large_bike_data.groupby('season')['cnt'].sum()\n",
    "\n",
    "pandas_time = time.time() - start_time\n",
    "print(f'Pandas operation completed in {pandas_time:.4f} seconds.')\n",
    "print(pandas_result)"
   ]
  },
  {
   "cell_type": "code",
   "execution_count": 17,
   "id": "80c60ca9-d4e4-4197-994f-bc3bced2d1a6",
   "metadata": {},
   "outputs": [
    {
     "name": "stdout",
     "output_type": "stream",
     "text": [
      "Ibis operation completed in 0.0344 seconds.\n",
      "   season    total_cnt\n",
      "0       1   4713480000\n",
      "1       4   8416130000\n",
      "2       3  10611290000\n",
      "3       2   9185890000\n"
     ]
    }
   ],
   "source": [
    "# Ibis section\n",
    "\n",
    "# Register the DataFrame as a table in DuckDB\n",
    "connection.register(large_bike_data, table_name=\"bike_table\")\n",
    "# Create an Ibis table expression referring to the bike_table in DuckDB\n",
    "ibis_table = connection.table(\"bike_table\")\n",
    "\n",
    "start_time = time.time()\n",
    "\n",
    "# Group by season and aggregate the total count of bikes in cnt\n",
    "ibis_query = ibis_table.group_by('season').aggregate(total_cnt=ibis_table['cnt'].sum())\n",
    "ibis_result = ibis_query.execute()\n",
    "\n",
    "ibis_time = time.time() - start_time\n",
    "print(f'Ibis operation completed in {ibis_time:.4f} seconds.')\n",
    "print(ibis_result)"
   ]
  },
  {
   "cell_type": "code",
   "execution_count": 21,
   "id": "d79c2b5f-3411-45e4-a696-fb0aa61b023a",
   "metadata": {},
   "outputs": [
    {
     "name": "stdout",
     "output_type": "stream",
     "text": [
      "      name  salary\n",
      "0  Charlie   70000\n"
     ]
    }
   ],
   "source": [
    "\n",
    "# Writing a query in Python using Ibis\n",
    "\n",
    "con = ibis.duckdb.connect(database=\":memory:\")\n",
    "\n",
    "data = pd.DataFrame({\n",
    "    \"id\": [1, 2, 3],\n",
    "    \"name\": [\"Alice\", \"Bob\", \"Charlie\"],\n",
    "    \"age\": [25, 30, 35],\n",
    "    \"salary\": [50000, 60000, 70000]\n",
    "})\n",
    "\n",
    "# Convert the DataFrame to an Ibis table (memtable)\n",
    "employee = ibis.memtable(data)\n",
    "\n",
    "# Register the Ibis table to the connection\n",
    "con.create_table(\"employee\", employee)\n",
    "\n",
    "# Query the table\n",
    "query = con.table(\"employee\").filter(lambda x: x.age > 30)[[\"name\", \"salary\"]]\n",
    "\n",
    "# Execute the query\n",
    "result = query.execute()\n",
    "\n",
    "# Print the result\n",
    "print(result)\n",
    "\n",
    "# ____GENERATED SQL QUERY____\n",
    "# SELECT name, salary\n",
    "# FROM employee\n",
    "# WHERE age > 30\n"
   ]
  },
  {
   "cell_type": "code",
   "execution_count": null,
   "id": "fa97c96f-0530-410c-8d1c-259c91a9a8f5",
   "metadata": {},
   "outputs": [],
   "source": []
  }
 ],
 "metadata": {
  "kernelspec": {
   "display_name": "Python 3 (ipykernel)",
   "language": "python",
   "name": "python3"
  },
  "language_info": {
   "codemirror_mode": {
    "name": "ipython",
    "version": 3
   },
   "file_extension": ".py",
   "mimetype": "text/x-python",
   "name": "python",
   "nbconvert_exporter": "python",
   "pygments_lexer": "ipython3",
   "version": "3.8.10"
  }
 },
 "nbformat": 4,
 "nbformat_minor": 5
}
